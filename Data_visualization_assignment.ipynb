{
  "nbformat": 4,
  "nbformat_minor": 0,
  "metadata": {
    "colab": {
      "private_outputs": true,
      "provenance": []
    },
    "kernelspec": {
      "name": "python3",
      "display_name": "Python 3"
    },
    "language_info": {
      "name": "python"
    }
  },
  "cells": [
    {
      "cell_type": "markdown",
      "source": [
        "# Exercise 1: Load the Tips Dataset\n",
        "- Import the necessary libraries (seaborn, matplotlib.pyplot, and pandas).\n",
        "- Load the Tips dataset from Seaborn."
      ],
      "metadata": {
        "id": "EOJY5OG1NBwU"
      }
    },
    {
      "cell_type": "code",
      "source": [
        "import seaborn as sns\n",
        "import matplotlib.pyplot as plt\n",
        "import pandas as pd"
      ],
      "metadata": {
        "id": "EnKQIRrc6b5i"
      },
      "execution_count": null,
      "outputs": []
    },
    {
      "cell_type": "code",
      "source": [
        "df = sns.load_dataset('tips')\n",
        "df.head()"
      ],
      "metadata": {
        "id": "Aiuqq4Pc6jha"
      },
      "execution_count": null,
      "outputs": []
    },
    {
      "cell_type": "markdown",
      "source": [
        "# Exercise 2: Scatter Plot"
      ],
      "metadata": {
        "id": "tFwa7RjkNJLR"
      }
    },
    {
      "cell_type": "markdown",
      "source": [
        "- Create a scatter plot using Seaborn to visualize the relationship between total_bill and tip.\n",
        "\n",
        "- Add different colors for different days of the week."
      ],
      "metadata": {
        "id": "VWfi4cv1NL7L"
      }
    },
    {
      "cell_type": "code",
      "source": [
        "sns.scatterplot(x=df['total_bill'], y=df['tip'], hue=df['day'])"
      ],
      "metadata": {
        "id": "ipMQOLdP60nC"
      },
      "execution_count": null,
      "outputs": []
    },
    {
      "cell_type": "markdown",
      "source": [
        "It seems like there is a positive relationship between the total_bill value and the amount of tips."
      ],
      "metadata": {
        "id": "hvPTTuxQ7tRt"
      }
    },
    {
      "cell_type": "markdown",
      "source": [
        "# Exercise 3: Histogram\n",
        "- Create a histogram of the total_bill column using Matplotlib.\n"
      ],
      "metadata": {
        "id": "0kyjBC-sNYLT"
      }
    },
    {
      "cell_type": "code",
      "source": [
        "plt.hist(df['total_bill'],edgecolor='black')\n",
        "plt.xlabel('Total Bill')\n",
        "plt.title('Histogram of Total Bill')"
      ],
      "metadata": {
        "id": "7oAukTIq75xL"
      },
      "execution_count": null,
      "outputs": []
    },
    {
      "cell_type": "markdown",
      "source": [
        "The total_bill has a right skewed distribution."
      ],
      "metadata": {
        "id": "pr9B6ffR8R_e"
      }
    },
    {
      "cell_type": "markdown",
      "source": [
        "# Exercise 4: Heatmap\n",
        "- Create a heatmap of the correlation matrix of the numerical columns in the Tips dataset using Seaborn."
      ],
      "metadata": {
        "id": "mZV8Zt2pNjzV"
      }
    },
    {
      "cell_type": "code",
      "source": [
        "corr = df.corr(numeric_only=True)\n",
        "sns.heatmap(corr,annot=True)"
      ],
      "metadata": {
        "id": "eAqzQ1AI8dgr"
      },
      "execution_count": null,
      "outputs": []
    },
    {
      "cell_type": "markdown",
      "source": [
        "# Exercise 5: Bar Plot\n",
        "- Create a bar plot to show the average tip amount for each day using Seaborn."
      ],
      "metadata": {
        "id": "lgVFk_g6NyJd"
      }
    },
    {
      "cell_type": "code",
      "source": [
        "sns.barplot(x=df['day'],y=df['tip'],estimator='mean',errorbar=None)"
      ],
      "metadata": {
        "id": "0h_qICcK8u5x"
      },
      "execution_count": null,
      "outputs": []
    },
    {
      "cell_type": "markdown",
      "source": [
        "Sunday has the most average tip value"
      ],
      "metadata": {
        "id": "KhIFcr9I9Cvd"
      }
    },
    {
      "cell_type": "markdown",
      "source": [
        "# Exercise 6: Line Plot\n",
        "- Create a line plot to show the trend of tip amount over total_bill using Matplotlib."
      ],
      "metadata": {
        "id": "rxYL55rlODkd"
      }
    },
    {
      "cell_type": "code",
      "source": [
        "df_sorted = df.sort_values(by='total_bill')\n",
        "plt.plot(df_sorted['total_bill'], df_sorted['tip'])\n",
        "plt.xlabel('Total Bill')\n",
        "plt.ylabel('Tip')\n",
        "plt.title('Trend of Tip Amount Over Total Bill')"
      ],
      "metadata": {
        "id": "_Bsyi3VZ9Ipz"
      },
      "execution_count": null,
      "outputs": []
    },
    {
      "cell_type": "markdown",
      "source": [
        "# Exercise 7: Scatter Plots with Subplots\n",
        "- Create a figure with two subplots (1 row, 2 columns).\n",
        "- In the first subplot, create a scatter plot of total_bill vs tip.\n",
        "- In the second subplot, create a scatter plot of total_bill vs size."
      ],
      "metadata": {
        "id": "baPshpjGOZdz"
      }
    },
    {
      "cell_type": "code",
      "source": [
        "plt.subplot(1,2,1)\n",
        "sns.scatterplot(x= df['total_bill'],y= df['tip'])\n",
        "plt.xlabel('Total Bill')\n",
        "plt.ylabel('Tip')\n",
        "plt.title('Scatter Plot of Total Bill vs Tip')\n",
        "plt.subplot(1,2,2)\n",
        "plt.scatter(df['total_bill'],df['size'])\n",
        "plt.xlabel('Total Bill')\n",
        "plt.ylabel('Size')\n",
        "plt.title('Scatter Plot of Total Bill vs Size')"
      ],
      "metadata": {
        "id": "kyIQev9093SJ"
      },
      "execution_count": null,
      "outputs": []
    },
    {
      "cell_type": "markdown",
      "source": [
        "# Exercise 8: 2x2 Grid of Subplot\n",
        "- Plot the following in each subplot:\n",
        "- (1, 1): Scatter plot of total_bill vs tip\n",
        "- (1, 2): Histogram of total_bill\n",
        "- (2, 1): Box plot of total_bill by day\n",
        "- (2, 2): lineplot plot of total_bill vs tip"
      ],
      "metadata": {
        "id": "CvRWOqkJPG-Y"
      }
    },
    {
      "cell_type": "code",
      "source": [
        "# Scatter plot of total_bill vs tip\n",
        "plt.figure(figsize=(10,10))\n",
        "plt.subplot(2,2,1)\n",
        "sns.scatterplot(x=df['total_bill'],y=df['tip'])\n",
        "plt.xlabel('Total Bill')\n",
        "plt.ylabel('Tip')\n",
        "plt.title('Scatter Plot of Total Bill vs Tip')\n",
        "\n",
        "# Histogram of total_bill\n",
        "plt.subplot(2,2,2)\n",
        "sns.histplot(df['total_bill'],edgecolor='black')\n",
        "plt.xlabel('Total Bill')\n",
        "plt.title('Histogram of Total Bill')\n",
        "\n",
        "# Box plot of total_bill by day\n",
        "plt.subplot(2,2,3)\n",
        "sns.boxplot(x=df['day'],y=df['total_bill'])\n",
        "plt.xlabel('Day')\n",
        "plt.ylabel('Total Bill')\n",
        "plt.title('Box Plot of Total Bill by Day')\n",
        "\n",
        "# lineplot plot of total_bill vs tip\n",
        "plt.subplot(2,2,4)\n",
        "sns.lineplot(x=df['total_bill'],y=df['tip'])\n",
        "plt.xlabel('Total Bill')\n",
        "plt.ylabel('Tip')\n",
        "plt.title('Line Plot of Total Bill vs Tip')"
      ],
      "metadata": {
        "id": "fNvCQHGj-jtd"
      },
      "execution_count": null,
      "outputs": []
    },
    {
      "cell_type": "markdown",
      "source": [
        "# Exercise 9: Customizing Subplot:\n",
        "- Plot the following in each subplot:\n",
        "- (1, 1): Line plot of total_bill vs tip\n",
        "- (2, 1): Bar plot of the average tip amount for each day\n",
        "- (3, 1): Heatmap of the correlation matrix\n"
      ],
      "metadata": {
        "id": "wU4xVclCPhsZ"
      }
    },
    {
      "cell_type": "code",
      "source": [
        "plt.figure(figsize=(5,10))\n",
        "\n",
        "# Line plot of total_bill vs tip\n",
        "plt.subplot(3,1,1)\n",
        "sns.lineplot(x=df['total_bill'],y=df['tip'])\n",
        "plt.xlabel('Total Bill')\n",
        "plt.ylabel('Tip')\n",
        "plt.title('Line Plot of Total Bill vs Tip')\n",
        "\n",
        "# Bar plot of the average tip amount for each day\n",
        "plt.subplot(3,1,2)\n",
        "sns.barplot(x=df['day'],y=df['tip'],estimator='mean',errorbar=None)\n",
        "\n",
        "#  Heatmap of the correlation matrix\n",
        "plt.subplot(3,1,3)\n",
        "corr = df.corr(numeric_only=True)\n",
        "sns.heatmap(corr,annot=True)"
      ],
      "metadata": {
        "id": "zlf-I63yBAtV"
      },
      "execution_count": null,
      "outputs": []
    }
  ]
}